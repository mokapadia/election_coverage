{
 "cells": [
  {
   "cell_type": "markdown",
   "id": "193e6fd1",
   "metadata": {},
   "source": [
    "# Data Consolidation Script"
   ]
  },
  {
   "cell_type": "code",
   "execution_count": 174,
   "id": "e75e7477",
   "metadata": {},
   "outputs": [],
   "source": [
    "from newsapi import NewsApiClient\n",
    "import pandas as pd\n",
    "import json\n",
    "from nltk.sentiment import SentimentIntensityAnalyzer\n",
    "from nltk.stem import PorterStemmer"
   ]
  },
  {
   "cell_type": "markdown",
   "id": "f23ac0a8",
   "metadata": {},
   "source": [
    "## Gathering API Data"
   ]
  },
  {
   "cell_type": "code",
   "execution_count": 102,
   "id": "1ce74fc6",
   "metadata": {
    "scrolled": true
   },
   "outputs": [],
   "source": [
    "newsapi = NewsApiClient(api_key='fcf462084cb645dfa3c112afadf3f50d')\n",
    "new_lst = []\n",
    "for j in ['relevancy','popularity', 'publishedAt']:\n",
    "    for i in ['Biden', 'Trump', \"Ballot\",\n",
    "              \"Vote\", \"GOP\", \"Democrat\" 'President']:\n",
    "        for page in range(1, 6):\n",
    "            articles = newsapi.get_everything(q=i,\n",
    "                                              language='en',\n",
    "                                              page=page, sort_by=j)\n",
    "            new_lst += articles['articles']"
   ]
  },
  {
   "cell_type": "code",
   "execution_count": 116,
   "id": "285b4a7a",
   "metadata": {},
   "outputs": [],
   "source": [
    "# create a copy of list and remove all duplicates \n",
    "org = new_lst.copy()\n",
    "no_duplicates = []\n",
    "r = [no_duplicates.append(i) for i in org if i not in no_duplicates]"
   ]
  },
  {
   "cell_type": "code",
   "execution_count": 122,
   "id": "dfe2d32d",
   "metadata": {},
   "outputs": [],
   "source": [
    "# filter data based on null/uncompatible data\n",
    "filtered = [i for i in no_duplicates if (i[\"description\"] is not None) \n",
    "            & (i[\"author\"] != \"CBS News\") \n",
    "            & (i[\"title\"] != \"[Removed]\")]"
   ]
  },
  {
   "cell_type": "markdown",
   "id": "9c7f003c",
   "metadata": {},
   "source": [
    "## Data Cleaning"
   ]
  },
  {
   "cell_type": "code",
   "execution_count": null,
   "id": "125eab3d",
   "metadata": {},
   "outputs": [],
   "source": [
    "# create function to match keywords to articles using stemming capabilities\n",
    "def match(content, categories):\n",
    "            for category, keywords in categories.items():\n",
    "                for keyword in keywords:\n",
    "                    if content is not None: \n",
    "                        # stem words to match keywords\n",
    "                        stemmed_content = [stemmer.stem(word) for word in content]\n",
    "                        if stemmer.stem(keyword.lower())in stemmed_content:\n",
    "                            return category\n",
    "                        \n",
    "            return \"Other U.S. News\"  "
   ]
  },
  {
   "cell_type": "code",
   "execution_count": 138,
   "id": "5b61c1a0",
   "metadata": {
    "scrolled": true
   },
   "outputs": [],
   "source": [
    "# initalizations\n",
    "final = []\n",
    "sia = SentimentIntensityAnalyzer()\n",
    "\n",
    "categories = {\n",
    "            \"Trump\": [\"trump\", \"donald\",'republican', 'conservative', 'abortion'],\n",
    "            \"Biden\": [\"biden\", \"joe\", 'democrat', 'liberal', 'democrats', 'clinton'],\n",
    "            \"Election\": [\"election\", \"vote\", '2024', 'primaries', 'u.s.', 'ballot', \n",
    "                         'campaign', 'candidate', 'voting', 'presidential'],\n",
    "            \"Policy\": [\"policy\", \"government\", 'congress', 'senate', \n",
    "                       'president', 'court', 'state', 'supreme', 'house',\n",
    "                       \"legislation\", \"law\", \"regulation\"],\n",
    "        }\n",
    "\n",
    "stemmer = PorterStemmer()\n",
    "\n",
    "# loop through results\n",
    "for i in range(len(filtered)):\n",
    "    \n",
    "    # remove unnecessary data columns\n",
    "    for key in [\"urlToImage\", \"source.id\"]:\n",
    "        filtered[i].pop(key, None)\n",
    "        \n",
    "        # only append data that can be cleaned/has good results\n",
    "        try:\n",
    "            \n",
    "            # clean titles\n",
    "            filtered[i][\"title\"] = filtered[i][\"title\"].strip()\n",
    "            \n",
    "            # calculate total character counts\n",
    "            filtered[i][\"character_count\"] = int((filtered[i][\"content\"].split()[-2]).strip(\"[+\")) + 200\n",
    "            \n",
    "            # split and clean content/description\n",
    "            filtered[i][\"content\"] = filtered[i][\"content\"].lower().split()[:-3]\n",
    "            filtered[i][\"description\"] = filtered[i][\"description\"].lower().split()[:-1]\n",
    "            \n",
    "            # calculate sentiment scores based on each description\n",
    "            filtered[i][\"sentiment\"] = sia.polarity_scores(\" \".join(i[\"description\"]))[\"compound\"]\n",
    "            \n",
    "            # categorize data\n",
    "            filtered[i][\"category\"] = match(i[\"description\"], categories)\n",
    "            \n",
    "            final.append(filtered[i])\n",
    "        except:\n",
    "            pass\n",
    "        \n"
   ]
  },
  {
   "cell_type": "code",
   "execution_count": 179,
   "id": "0ae1b692",
   "metadata": {},
   "outputs": [],
   "source": [
    "# output json file\n",
    "out_file = open(\"final_data.json\", \"w\") \n",
    "json.dump(filtered, out_file, indent = 1) \n",
    "out_file.close() "
   ]
  }
 ],
 "metadata": {
  "kernelspec": {
   "display_name": "Python 3 (ipykernel)",
   "language": "python",
   "name": "python3"
  },
  "language_info": {
   "codemirror_mode": {
    "name": "ipython",
    "version": 3
   },
   "file_extension": ".py",
   "mimetype": "text/x-python",
   "name": "python",
   "nbconvert_exporter": "python",
   "pygments_lexer": "ipython3",
   "version": "3.11.5"
  }
 },
 "nbformat": 4,
 "nbformat_minor": 5
}
